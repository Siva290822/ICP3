{
  "nbformat": 4,
  "nbformat_minor": 0,
  "metadata": {
    "colab": {
      "provenance": [],
      "authorship_tag": "ABX9TyMUpE5MyL0bdY6QcM3NV5YH",
      "include_colab_link": true
    },
    "kernelspec": {
      "name": "python3",
      "display_name": "Python 3"
    },
    "language_info": {
      "name": "python"
    }
  },
  "cells": [
    {
      "cell_type": "markdown",
      "metadata": {
        "id": "view-in-github",
        "colab_type": "text"
      },
      "source": [
        "<a href=\"https://colab.research.google.com/github/Siva290822/ICP3/blob/main/Copy_of_ICP3.ipynb\" target=\"_parent\"><img src=\"https://colab.research.google.com/assets/colab-badge.svg\" alt=\"Open In Colab\"/></a>"
      ]
    },
    {
      "cell_type": "code",
      "execution_count": null,
      "metadata": {
        "id": "IwSnI-8DfO8D"
      },
      "outputs": [],
      "source": []
    },
    {
      "cell_type": "code",
      "source": [
        "import numpy as np\n",
        "vector = np.random.randint(1, 21, 15)\n",
        "print(\"Original Vector:\\n\", vector)\n",
        "\n",
        "reshaped = vector.reshape(3, 5)\n",
        "print(\"\\nReshaped Array (3x5):\\n\", reshaped)\n",
        "\n",
        "print(\"\\nShape of Array:\", reshaped.shape)\n",
        "\n",
        "for i in range(reshaped.shape[0]):\n",
        "    max_index = reshaped[i].argmax()\n",
        "    reshaped[i][max_index] = 0\n",
        "\n",
        "print(\"\\nModified Array (max in each row replaced with 0):\\n\", reshaped)\n"
      ],
      "metadata": {
        "colab": {
          "base_uri": "https://localhost:8080/"
        },
        "id": "RMmHnO2fhf95",
        "outputId": "af0b2180-b3c4-4789-86ba-69436ae456b9"
      },
      "execution_count": null,
      "outputs": [
        {
          "output_type": "stream",
          "name": "stdout",
          "text": [
            "Original Vector:\n",
            " [15 17  7 14  7 13  7 15 16  1 20 17 17  7 18]\n",
            "\n",
            "Reshaped Array (3x5):\n",
            " [[15 17  7 14  7]\n",
            " [13  7 15 16  1]\n",
            " [20 17 17  7 18]]\n",
            "\n",
            "Shape of Array: (3, 5)\n",
            "\n",
            "Modified Array (max in each row replaced with 0):\n",
            " [[15  0  7 14  7]\n",
            " [13  7 15  0  1]\n",
            " [ 0 17 17  7 18]]\n"
          ]
        }
      ]
    },
    {
      "cell_type": "code",
      "source": [
        "array_2d = np.zeros((4, 3), dtype=np.int32)\n",
        "print(\"2D Array:\\n\", array_2d)\n",
        "print(\"Shape:\", array_2d.shape)\n",
        "print(\"Type:\", type(array_2d))\n",
        "print(\"Data Type:\", array_2d.dtype)\n"
      ],
      "metadata": {
        "colab": {
          "base_uri": "https://localhost:8080/"
        },
        "id": "1j8Gt6ighvPf",
        "outputId": "cc7a00fd-4f07-4a3c-cb9a-51dae2aa8970"
      },
      "execution_count": null,
      "outputs": [
        {
          "output_type": "stream",
          "name": "stdout",
          "text": [
            "2D Array:\n",
            " [[0 0 0]\n",
            " [0 0 0]\n",
            " [0 0 0]\n",
            " [0 0 0]]\n",
            "Shape: (4, 3)\n",
            "Type: <class 'numpy.ndarray'>\n",
            "Data Type: int32\n"
          ]
        }
      ]
    },
    {
      "cell_type": "code",
      "source": [
        "matrix = np.array([[3, -2],\n",
        "                   [1,  0]])\n",
        "\n",
        "eig_vals, eig_vecs = np.linalg.eig(matrix)\n",
        "print(\"Eigenvalues:\", eig_vals)\n",
        "print(\"Right Eigenvectors:\\n\", eig_vecs)\n"
      ],
      "metadata": {
        "colab": {
          "base_uri": "https://localhost:8080/"
        },
        "id": "4RyYgxmNh10i",
        "outputId": "8ceb281f-5cda-4d43-8eae-4c03875079cc"
      },
      "execution_count": null,
      "outputs": [
        {
          "output_type": "stream",
          "name": "stdout",
          "text": [
            "Eigenvalues: [2. 1.]\n",
            "Right Eigenvectors:\n",
            " [[0.89442719 0.70710678]\n",
            " [0.4472136  0.70710678]]\n"
          ]
        }
      ]
    },
    {
      "cell_type": "code",
      "source": [
        "arr = np.array([[0, 1, 2],\n",
        "                [3, 4, 5]])\n",
        "diagonal_sum = np.trace(arr)\n",
        "print(\"Sum of diagonal elements:\", diagonal_sum)\n"
      ],
      "metadata": {
        "colab": {
          "base_uri": "https://localhost:8080/"
        },
        "id": "TndJDy_SiNmP",
        "outputId": "b67927c6-4951-4505-ab85-8c5c05f9cdc6"
      },
      "execution_count": null,
      "outputs": [
        {
          "output_type": "stream",
          "name": "stdout",
          "text": [
            "Sum of diagonal elements: 4\n"
          ]
        }
      ]
    },
    {
      "cell_type": "code",
      "source": [
        "original = np.array([[1, 2],\n",
        "                     [3, 4],\n",
        "                     [5, 6]])\n",
        "\n",
        "reshaped = original.reshape(2, 3)\n",
        "print(\"Reshaped Array (2x3):\\n\", reshaped)\n"
      ],
      "metadata": {
        "colab": {
          "base_uri": "https://localhost:8080/"
        },
        "id": "Ih1vafRkiW2w",
        "outputId": "714b63fa-f2bc-44e4-a446-f8c5d26a59b4"
      },
      "execution_count": null,
      "outputs": [
        {
          "output_type": "stream",
          "name": "stdout",
          "text": [
            "Reshaped Array (2x3):\n",
            " [[1 2 3]\n",
            " [4 5 6]]\n"
          ]
        }
      ]
    }
  ]
}